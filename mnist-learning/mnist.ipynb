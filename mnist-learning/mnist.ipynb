{
 "cells": [
  {
   "cell_type": "code",
   "execution_count": 64,
   "id": "b5254edc",
   "metadata": {},
   "outputs": [],
   "source": [
    "import torch\n",
    "import torch.nn as nn\n",
    "import torchvision as tv\n",
    "import torch.nn.functional as F\n",
    "\n",
    "import numpy as np\n",
    "import matplotlib.pyplot as plt\n",
    "import cv2\n",
    "import os\n",
    "from tqdm import tqdm"
   ]
  },
  {
   "cell_type": "code",
   "execution_count": 65,
   "id": "105d37be",
   "metadata": {},
   "outputs": [],
   "source": [
    "trans = tv.transforms.Compose([\n",
    "\ttv.transforms.ToTensor()\n",
    "])"
   ]
  },
  {
   "cell_type": "code",
   "execution_count": null,
   "id": "aa5fa349",
   "metadata": {},
   "outputs": [],
   "source": [
    "ds_mnist = tv.datasets.MNIST(root='data', download=True, transform=trans)"
   ]
  },
  {
   "cell_type": "code",
   "execution_count": 67,
   "id": "b29d2b7f",
   "metadata": {},
   "outputs": [
    {
     "data": {
      "text/plain": [
       "<matplotlib.image.AxesImage at 0x7036dc0ba8d0>"
      ]
     },
     "execution_count": 67,
     "metadata": {},
     "output_type": "execute_result"
    },
    {
     "data": {
      "image/png": "[encoded data removed]",
      "text/plain": [
       "<Figure size 640x480 with 1 Axes>"
      ]
     },
     "metadata": {},
     "output_type": "display_data"
    }
   ],
   "source": [
    "plt.imshow(ds_mnist[4][0].numpy()[0])"
   ]
  },
  {
   "cell_type": "code",
   "execution_count": 68,
   "id": "b8584dde",
   "metadata": {},
   "outputs": [],
   "source": [
    "dataloader = torch.utils.data.DataLoader(dataset=ds_mnist, batch_size=16, shuffle=True, num_workers=1, drop_last=True)"
   ]
  },
  {
   "cell_type": "code",
   "execution_count": 69,
   "id": "a1a435f7",
   "metadata": {},
   "outputs": [
    {
     "name": "stdout",
     "output_type": "stream",
     "text": [
      "torch.Size([16, 1, 28, 28])\n",
      "torch.Size([16])\n"
     ]
    }
   ],
   "source": [
    "for img, label in dataloader:\n",
    "    print(img.shape)\n",
    "    print(label.shape)\n",
    "    break"
   ]
  },
  {
   "cell_type": "code",
   "execution_count": 70,
   "id": "b7c132cd",
   "metadata": {},
   "outputs": [],
   "source": [
    "class NeuralNumbers(nn.Module):\n",
    "    def __init__(self):\n",
    "        super().__init__()\n",
    "        \n",
    "        self.flat = nn.Flatten()\n",
    "        self.linear1 = nn.Linear(28 * 28, 100)\n",
    "        self.linear2 = nn.Linear(100, 10)\n",
    "        self.act = nn.ReLU()\n",
    "        \n",
    "    def forward(self, x):\n",
    "        out = self.flat(x)\n",
    "        out = self.linear1(out)\n",
    "        out = self.act(out)\n",
    "        out = self.linear2(out)\n",
    "        \n",
    "        return out"
   ]
  },
  {
   "cell_type": "code",
   "execution_count": 71,
   "id": "6ad8e3c2",
   "metadata": {},
   "outputs": [],
   "source": [
    "def count_parameters(model):\n",
    "    return sum(p.numel() for p in model.parameters() if p.requires_grad)"
   ]
  },
  {
   "cell_type": "code",
   "execution_count": 72,
   "id": "12988d88",
   "metadata": {},
   "outputs": [],
   "source": [
    "model = NeuralNumbers()"
   ]
  },
  {
   "cell_type": "code",
   "execution_count": 73,
   "id": "d928035c",
   "metadata": {},
   "outputs": [
    {
     "data": {
      "text/plain": [
       "79510"
      ]
     },
     "execution_count": 73,
     "metadata": {},
     "output_type": "execute_result"
    }
   ],
   "source": [
    "count_parameters(model)"
   ]
  },
  {
   "cell_type": "code",
   "execution_count": 74,
   "id": "4deb861a",
   "metadata": {},
   "outputs": [],
   "source": [
    "loss_fn = nn.CrossEntropyLoss()"
   ]
  },
  {
   "cell_type": "code",
   "execution_count": 75,
   "id": "d9e3b002",
   "metadata": {},
   "outputs": [],
   "source": [
    "optimizer = torch.optim.SGD(model.parameters(), lr=1e-3, momentum=0.9)"
   ]
  },
  {
   "cell_type": "code",
   "execution_count": 76,
   "id": "ed6f4199",
   "metadata": {},
   "outputs": [],
   "source": [
    "def accuracy(pred, label):\n",
    "    answer = F.softmax(pred.detach()).numpy().argmax(1) == label.numpy().argmax(1)\n",
    "    \n",
    "    return answer.mean()"
   ]
  },
  {
   "cell_type": "code",
   "execution_count": 77,
   "id": "466efc87",
   "metadata": {},
   "outputs": [
    {
     "name": "stderr",
     "output_type": "stream",
     "text": [
      "  0%|          | 0/3750 [00:00<?, ?it/s]/tmp/ipykernel_15822/3800270976.py:2: UserWarning: Implicit dimension choice for softmax has been deprecated. Change the call to include dim=X as an argument.\n",
      "  answer = F.softmax(pred.detach()).numpy().argmax(1) == label.numpy().argmax(1)\n",
      "loss: 3.8987e-01\taccuracy: 9.3750e-01: 100%|██████████| 3750/3750 [00:20<00:00, 179.76it/s]\n"
     ]
    },
    {
     "name": "stdout",
     "output_type": "stream",
     "text": [
      "0.6469201587527991\n",
      "0.83935\n"
     ]
    },
    {
     "name": "stderr",
     "output_type": "stream",
     "text": [
      "loss: 1.1470e-01\taccuracy: 1.0000e+00: 100%|██████████| 3750/3750 [00:21<00:00, 170.79it/s]\n"
     ]
    },
    {
     "name": "stdout",
     "output_type": "stream",
     "text": [
      "0.30895831495573123\n",
      "0.9121\n"
     ]
    },
    {
     "name": "stderr",
     "output_type": "stream",
     "text": [
      "loss: 1.1093e-01\taccuracy: 1.0000e+00: 100%|██████████| 3750/3750 [00:23<00:00, 157.68it/s]\n"
     ]
    },
    {
     "name": "stdout",
     "output_type": "stream",
     "text": [
      "0.2595055186969539\n",
      "0.9272166666666667\n"
     ]
    },
    {
     "name": "stderr",
     "output_type": "stream",
     "text": [
      "loss: 1.3544e-01\taccuracy: 9.3750e-01: 100%|██████████| 3750/3750 [00:24<00:00, 150.88it/s]\n"
     ]
    },
    {
     "name": "stdout",
     "output_type": "stream",
     "text": [
      "0.22642291216601929\n",
      "0.9369333333333333\n"
     ]
    },
    {
     "name": "stderr",
     "output_type": "stream",
     "text": [
      "loss: 1.5833e-02\taccuracy: 1.0000e+00: 100%|██████████| 3750/3750 [00:23<00:00, 161.01it/s]\n"
     ]
    },
    {
     "name": "stdout",
     "output_type": "stream",
     "text": [
      "0.20149991784344118\n",
      "0.9429833333333333\n"
     ]
    },
    {
     "name": "stderr",
     "output_type": "stream",
     "text": [
      "loss: 2.5278e-01\taccuracy: 9.3750e-01: 100%|██████████| 3750/3750 [00:22<00:00, 166.36it/s]\n"
     ]
    },
    {
     "name": "stdout",
     "output_type": "stream",
     "text": [
      "0.1810575129897644\n",
      "0.9492\n"
     ]
    },
    {
     "name": "stderr",
     "output_type": "stream",
     "text": [
      "loss: 1.0129e-01\taccuracy: 1.0000e+00: 100%|██████████| 3750/3750 [00:21<00:00, 173.53it/s]\n"
     ]
    },
    {
     "name": "stdout",
     "output_type": "stream",
     "text": [
      "0.16419485324087243\n",
      "0.9533166666666667\n"
     ]
    },
    {
     "name": "stderr",
     "output_type": "stream",
     "text": [
      "loss: 3.5472e-01\taccuracy: 9.3750e-01: 100%|██████████| 3750/3750 [04:41<00:00, 13.30it/s] \n"
     ]
    },
    {
     "name": "stdout",
     "output_type": "stream",
     "text": [
      "0.14960960966087877\n",
      "0.9574\n"
     ]
    },
    {
     "name": "stderr",
     "output_type": "stream",
     "text": [
      "loss: 3.3170e-02\taccuracy: 1.0000e+00: 100%|██████████| 3750/3750 [00:26<00:00, 141.85it/s]\n"
     ]
    },
    {
     "name": "stdout",
     "output_type": "stream",
     "text": [
      "0.1376733751072859\n",
      "0.9610666666666666\n"
     ]
    },
    {
     "name": "stderr",
     "output_type": "stream",
     "text": [
      "loss: 1.5835e-01\taccuracy: 9.3750e-01: 100%|██████████| 3750/3750 [00:25<00:00, 149.95it/s]"
     ]
    },
    {
     "name": "stdout",
     "output_type": "stream",
     "text": [
      "0.1273587918167313\n",
      "0.9639166666666666\n"
     ]
    },
    {
     "name": "stderr",
     "output_type": "stream",
     "text": [
      "\n"
     ]
    }
   ],
   "source": [
    "epochs = 10\n",
    "\n",
    "for epoch in range(epochs):\n",
    "    loss_value = 0\n",
    "    acc_value = 0\n",
    "    \n",
    "    for img, label in (pbar := tqdm(dataloader)):\n",
    "        optimizer.zero_grad()\n",
    "        \n",
    "        label = F.one_hot(label, 10).float()\n",
    "        pred = model(img)\n",
    "        \n",
    "        loss = loss_fn(pred, label)\n",
    "        \n",
    "        loss.backward()\n",
    "        loss_item = loss.item()\n",
    "        loss_value += loss_item\n",
    "        \n",
    "        optimizer.step()\n",
    "        \n",
    "        acc_current = accuracy(pred, label)\n",
    "        acc_value += acc_current\n",
    "        \n",
    "        pbar.set_description(f'loss: {loss_item:.4e}\\taccuracy: {acc_current:.4e}')\n",
    "    \n",
    "    print(loss_value / len(dataloader))\n",
    "    print(acc_value / len(dataloader))"
   ]
  },
  {
   "cell_type": "code",
   "execution_count": 84,
   "id": "5eb4fce0",
   "metadata": {},
   "outputs": [],
   "source": [
    "img = cv2.imread('./uploads/test_img_7.png', cv2.IMREAD_GRAYSCALE)\n",
    "img = np.expand_dims(img, axis=0)\n",
    "img = np.expand_dims(img, axis=0)\n",
    "img = img.astype(np.float32)/255.0"
   ]
  },
  {
   "cell_type": "code",
   "execution_count": 85,
   "id": "5217dedc",
   "metadata": {},
   "outputs": [
    {
     "data": {
      "text/plain": [
       "(1, 1, 28, 28)"
      ]
     },
     "execution_count": 85,
     "metadata": {},
     "output_type": "execute_result"
    }
   ],
   "source": [
    "img.shape"
   ]
  },
  {
   "cell_type": "code",
   "execution_count": 86,
   "id": "d9763863",
   "metadata": {},
   "outputs": [],
   "source": [
    "test_img = torch.from_numpy(img)\n",
    "test_pred = model(test_img)"
   ]
  },
  {
   "cell_type": "code",
   "execution_count": null,
   "id": "c1387510",
   "metadata": {},
   "outputs": [
    {
     "name": "stderr",
     "output_type": "stream",
     "text": [
      "/tmp/ipykernel_15822/4002220828.py:1: UserWarning: Implicit dimension choice for softmax has been deprecated. Change the call to include dim=X as an argument.\n",
      "  F.softmax(test_pred).detach().numpy().argmax()\n"
     ]
    },
    {
     "data": {
      "text/plain": [
       "np.int64(5)"
      ]
     },
     "execution_count": 87,
     "metadata": {},
     "output_type": "execute_result"
    }
   ],
   "source": [
    "F.softmax(test_pred).detach().numpy().argmax()"
   ]
  }
 ],
 "metadata": {
  "kernelspec": {
   "display_name": "Python 3",
   "language": "python",
   "name": "python3"
  },
  "language_info": {
   "codemirror_mode": {
    "name": "ipython",
    "version": 3
   },
   "file_extension": ".py",
   "mimetype": "text/x-python",
   "name": "python",
   "nbconvert_exporter": "python",
   "pygments_lexer": "ipython3",
   "version": "3.12.3"
  }
 },
 "nbformat": 4,
 "nbformat_minor": 5
}
